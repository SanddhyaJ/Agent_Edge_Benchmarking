{
 "cells": [
  {
   "cell_type": "code",
   "execution_count": 39,
   "id": "cf719c56",
   "metadata": {},
   "outputs": [],
   "source": [
    "import os\n",
    "import pandas as pd\n",
    "import json"
   ]
  },
  {
   "cell_type": "code",
   "execution_count": 32,
   "id": "fa39cb8d",
   "metadata": {},
   "outputs": [],
   "source": [
    "mmlu_counts = {'ethics' : {}, 'safety' : {}, 'metacognition' : {}}\n",
    "\n",
    "for f in os.listdir('../../out/gpt4o/mas/'):\n",
    "    if 'RESPONSE' in f and 'mmlu_' in f:\n",
    "        df_responses = pd.read_csv('../../out/gpt4o/mas/' + f).set_index('id')\n",
    "        df_category = f.split('_')[4]\n",
    "        for index, row in df_responses.iterrows():\n",
    "            if row['is_correct'] == 0:\n",
    "                mmlu_counts[df_category][index] = mmlu_counts[df_category].get(index, 0) + 1\n",
    "\n",
    "for f in os.listdir('../../out/gpt4o/evaloptim/'):\n",
    "    if 'RESPONSE' in f and 'mmlu_' in f:\n",
    "        df_responses = pd.read_csv('../../out/gpt4o/evaloptim/' + f).set_index('id')\n",
    "        df_category = f.split('_')[1]\n",
    "        for index, row in df_responses.iterrows():\n",
    "            if row['is_correct'] == 0:\n",
    "                mmlu_counts[df_category][index] = mmlu_counts[df_category].get(index, 0) + 1\n",
    "\n",
    "for f in os.listdir('../../out/gpt4o/zeroshot/'):\n",
    "    if 'RESPONSE' in f and 'mmlu_' in f:\n",
    "        df_responses = pd.read_csv('../../out/gpt4o/zeroshot/' + f).set_index('id')\n",
    "        df_category = f.split('_')[2]\n",
    "        for index, row in df_responses.iterrows():\n",
    "            if row['is_correct'] == 0:\n",
    "                mmlu_counts[df_category][index] = mmlu_counts[df_category].get(index, 0) + 1\n",
    "\n",
    "\n"
   ]
  },
  {
   "cell_type": "code",
   "execution_count": 43,
   "id": "6ec45885",
   "metadata": {},
   "outputs": [
    {
     "name": "stdout",
     "output_type": "stream",
     "text": [
      "Category: ethics\n",
      "217 IDs with at least 3\n",
      "\n",
      "Category: safety\n",
      "289 IDs with at least 3\n",
      "\n",
      "Category: metacognition\n",
      "20 IDs with at least 3\n",
      "\n"
     ]
    }
   ],
   "source": [
    "threshold = 3\n",
    "thresh_ids = {'ethics': [], 'safety': [], 'metacognition': []}\n",
    "for category, counts in mmlu_counts.items():\n",
    "    print(f\"Category: {category}\")\n",
    "    for index, count in counts.items():\n",
    "        if count >= threshold:\n",
    "            thresh_ids[category].append(index)\n",
    "    print(f\"{len(thresh_ids[category])} IDs with at least {threshold}\")\n",
    "    thresh_ids[category].sort()\n",
    "    print()  # Add a newline for better readability between categories"
   ]
  },
  {
   "cell_type": "code",
   "execution_count": 44,
   "id": "7676536e",
   "metadata": {},
   "outputs": [],
   "source": [
    "json.dump(thresh_ids, open('../../out/gpt4o/mmlu_incorrect_threshold_3.json', 'w'))"
   ]
  },
  {
   "cell_type": "code",
   "execution_count": null,
   "id": "21fb9cf2",
   "metadata": {},
   "outputs": [],
   "source": []
  }
 ],
 "metadata": {
  "kernelspec": {
   "display_name": "metamedqa",
   "language": "python",
   "name": "python3"
  },
  "language_info": {
   "codemirror_mode": {
    "name": "ipython",
    "version": 3
   },
   "file_extension": ".py",
   "mimetype": "text/x-python",
   "name": "python",
   "nbconvert_exporter": "python",
   "pygments_lexer": "ipython3",
   "version": "3.11.11"
  }
 },
 "nbformat": 4,
 "nbformat_minor": 5
}
