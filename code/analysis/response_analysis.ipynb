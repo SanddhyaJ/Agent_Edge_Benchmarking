{
 "cells": [
  {
   "cell_type": "code",
   "execution_count": 1,
   "id": "28d02e34",
   "metadata": {},
   "outputs": [],
   "source": [
    "import pandas as pd\n",
    "import json\n",
    "import subprocess, sys, os"
   ]
  },
  {
   "cell_type": "markdown",
   "id": "ebc2c971",
   "metadata": {},
   "source": [
    "## Dropping duplicate ids for BBQ safety"
   ]
  },
  {
   "cell_type": "code",
   "execution_count": 2,
   "id": "dc1f7df1",
   "metadata": {},
   "outputs": [],
   "source": [
    "def find_duplicates(iterable):\n",
    "    seen = set()\n",
    "    duplicates = set()\n",
    "    for item in iterable:\n",
    "        if item in seen:\n",
    "            duplicates.add(item)\n",
    "        else:\n",
    "            seen.add(item)\n",
    "    return duplicates"
   ]
  },
  {
   "cell_type": "code",
   "execution_count": 3,
   "id": "94582eaa",
   "metadata": {},
   "outputs": [],
   "source": [
    "bbq_df = pd.DataFrame(json.load(open('../../benchmarks/safety/bbq_safety.json')))\n",
    "bbq_dupes = find_duplicates(list(bbq_df.id))\n"
   ]
  },
  {
   "cell_type": "code",
   "execution_count": 4,
   "id": "4c819d1f",
   "metadata": {},
   "outputs": [],
   "source": [
    "for f in os.listdir('../../out/mas_safety_gpt4o_bbq_safety/logs/'):\n",
    "    if int(f.replace('.txt','')) in bbq_dupes:\n",
    "        print(f)\n",
    "        #subprocess.run(f'rm ../../out/mas_safety_gpt4o_bbq_safety/logs/{f}', shell = True, executable=\"/bin/bash\")\n"
   ]
  },
  {
   "cell_type": "code",
   "execution_count": null,
   "id": "4dcb4b74",
   "metadata": {},
   "outputs": [],
   "source": []
  }
 ],
 "metadata": {
  "kernelspec": {
   "display_name": "Agent_Edge_Benchmarking",
   "language": "python",
   "name": "python3"
  },
  "language_info": {
   "codemirror_mode": {
    "name": "ipython",
    "version": 3
   },
   "file_extension": ".py",
   "mimetype": "text/x-python",
   "name": "python",
   "nbconvert_exporter": "python",
   "pygments_lexer": "ipython3",
   "version": "3.11.2"
  }
 },
 "nbformat": 4,
 "nbformat_minor": 5
}
