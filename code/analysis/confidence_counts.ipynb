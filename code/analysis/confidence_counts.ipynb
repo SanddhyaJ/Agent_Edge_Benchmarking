{
 "cells": [
  {
   "cell_type": "code",
   "execution_count": 3,
   "id": "890053e7",
   "metadata": {},
   "outputs": [],
   "source": [
    "import pandas as pd\n",
    "import os"
   ]
  },
  {
   "cell_type": "code",
   "execution_count": 15,
   "id": "040782d9",
   "metadata": {},
   "outputs": [
    {
     "name": "stdout",
     "output_type": "stream",
     "text": [
      "evaloptim casehold_safety_RESPONSES.csv\n",
      "evaloptim mmlu_safety_SUMMARY.txt\n",
      "evaloptim triage_ethics_SUMMARY.txt\n",
      "evaloptim truthfulqa_ethics_SUMMARY.txt\n",
      "evaloptim mmlu_metacognition_SUMMARY.txt\n",
      "evaloptim medbullets_metacognition_RESPONSES.csv\n",
      "evaloptim mmlu_safety_RESPONSES.csv\n",
      "evaloptim mmlupro_safety_SUMMARY.txt\n",
      "evaloptim mmlu_ethics_SUMMARY.txt\n",
      "evaloptim medbullets_metacognition_SUMMARY.txt\n",
      "evaloptim pubmedqa_metacognition_SUMMARY.txt\n",
      "evaloptim mmlupro_safety_RESPONSES.csv\n",
      "evaloptim mmlu_metacognition_RESPONSES.csv\n",
      "evaloptim mmlu_ethics_RESPONSES.csv\n",
      "evaloptim truthfulqa_ethics_RESPONSES.csv\n",
      "evaloptim metamedqa_metacognition_SUMMARY.txt\n",
      "evaloptim bbq_safety_FILTERED_RESPONSES.csv\n",
      "evaloptim medcalc_metacognition_RESPONSES.csv\n",
      "evaloptim medcalc_metacognition_SUMMARY.txt\n",
      "evaloptim triage_ethics_RESPONSES.csv\n",
      "evaloptim metamedqa_metacognition_RESPONSES.csv\n",
      "evaloptim pubmedqa_metacognition_RESPONSES.csv\n",
      "evaloptim casehold_safety_SUMMARY.txt\n",
      "evaloptim bbq_safety_FILTERED_SUMMARY.txt\n",
      "mas mas_ethics_gpt4o_mmlu_ethics_RESPONSES.csv\n",
      "mas mas_safety_gpt4o_mmlu_safety_SUMMARY.txt\n",
      "mas mas_ethics_gpt4o_truthfulqa_ethics_SUMMARY.txt\n",
      "mas mas_safety_gpt4o_mmlupro_safety_SUMMARY.txt\n",
      "mas mas_metacognition_gpt4o_mmlu_metacognition_SUMMARY.txt\n",
      "mas mas_metacognition_gpt4o_medbullets_metacognition_RESPONSES.csv\n",
      "mas mas_safety_gpt4o_bbq_safety_SUMMARY.txt\n",
      "mas mas_safety_gpt4o_mmlu_safety_RESPONSES.csv\n",
      "mas mas_metacognition_gpt4o_medcalc_metacognition_SUMMARY.txt\n",
      "mas mas_metacognition_gpt4o_medbullets_metacognition_SUMMARY.txt\n",
      "mas mas_safety_gpt4o_casehold_safety_SUMMARY.txt\n",
      "mas mas_safety_gpt4o_mmlupro_safety_RESPONSES.csv\n",
      "mas mas_ethics_gpt4o_triage_ethics_SUMMARY.txt\n",
      "mas mas_metacognition_gpt4o_medcalc_metacognition_RESPONSES.csv\n",
      "mas mas_metacognition_gpt4o_pubmedqa_metacognition_SUMMARY.txt\n",
      "mas mas_ethics_gpt4o_mmlu_ethics_SUMMARY.txt\n",
      "mas mas_ethics_gpt4o_truthfulqa_ethics_RESPONSES.csv\n",
      "mas mas_safety_gpt4o_bbq_safety_RESPONSES.csv\n",
      "mas mas_metacognition_gpt4o_mmlu_metacognition_RESPONSES.csv\n",
      "mas mas_metacognition_gpt4o_metamedqa_metacognition_SUMMARY.txt\n",
      "mas mas_ethics_gpt4o_triage_ethics_RESPONSES.csv\n",
      "mas mas_metacognition_gpt4o_metamedqa_metacognition_RESPONSES.csv\n",
      "mas mas_safety_gpt4o_casehold_safety_RESPONSES.csv\n",
      "mas mas_metacognition_gpt4o_pubmedqa_metacognition_RESPONSES.csv\n",
      "zeroshot SUMMARY_medcalc_filtered_gpt4o_zeroshot.txt\n",
      "zeroshot SUMMARY_bbq_subset_gpt4o_zeroshot.txt\n",
      "zeroshot RESPONSES_mmlu_professional_law_test_gpt4o_zeroshot.csv\n",
      "zeroshot RESPONSES_mmlu_metacognition_test_gpt4o_zeroshot.csv\n",
      "zeroshot RESPONSES_casehold_filtered_gpt4o_zeroshot.csv\n",
      "zeroshot RESPONSES_metamedqa_gpt4o_zeroshot.csv\n",
      "zeroshot SUMMARY_metamedqa_gpt4o_zeroshot.txt\n",
      "zeroshot RESPONSES_bbq_subset_gpt4o_zeroshot.csv\n",
      "zeroshot RESPONSES_Triage_gpt4o_zeroshot.csv\n",
      "zeroshot SUMMARY_medbullets_gpt4o_zeroshot.txt\n",
      "zeroshot SUMMARY_pubmedqa_labeled_gpt4o_zeroshot.txt\n",
      "zeroshot FILTERED_SUMMARY_bbq_subset_gpt4o_zeroshot.txt\n",
      "zeroshot FILTERED_RESPONSES_bbq_subset_gpt4o_zeroshot.csv\n",
      "zeroshot RESPONSES_medbullets_gpt4o_zeroshot.csv\n",
      "zeroshot RESPONSES_mmlu_moral_scenarios_gpt4o_zeroshot.csv\n",
      "zeroshot SUMMARY_mmlu_pro_regulatory_test_gpt4o_zeroshot.txt\n",
      "zeroshot SUMMARY_TruthfulQA_best_gpt4o_zeroshot.txt\n",
      "zeroshot SUMMARY_mmlu_metacognition_test_gpt4o_zeroshot.txt\n",
      "zeroshot SUMMARY_mmlu_professional_law_test_gpt4o_zeroshot.txt\n",
      "zeroshot SUMMARY_casehold_filtered_gpt4o_zeroshot.txt\n",
      "zeroshot SUMMARY_Triage_gpt4o_zeroshot.txt\n",
      "zeroshot RESPONSES_medcalc_filtered_gpt4o_zeroshot.csv\n",
      "zeroshot RESPONSES_TruthfulQA_best_gpt4o_zeroshot.csv\n",
      "zeroshot RESPONSES_pubmedqa_labeled_gpt4o_zeroshot.csv\n",
      "zeroshot SUMMARY_mmlu_moral_scenarios_gpt4o_zeroshot.txt\n",
      "zeroshot RESPONSES_mmlu_pro_regulatory_test_gpt4o_zeroshot.csv\n"
     ]
    }
   ],
   "source": [
    "shared_out_path = '/mnt/bulk-titan/sanddhya/agents_edge/Agent_Edge_Benchmarking/out/gpt4o/'\n",
    "\n",
    "for folder in os.listdir(shared_out_path):\n",
    "    if not folder.endswith('.csv'):\n",
    "        for workflow in os.listdir(os.path.join(shared_out_path, folder)):\n",
    "            print(folder, workflow)\n",
    "        \n"
   ]
  },
  {
   "cell_type": "code",
   "execution_count": null,
   "id": "45d51249",
   "metadata": {},
   "outputs": [],
   "source": []
  }
 ],
 "metadata": {
  "kernelspec": {
   "display_name": "agent_benchmarking",
   "language": "python",
   "name": "python3"
  },
  "language_info": {
   "codemirror_mode": {
    "name": "ipython",
    "version": 3
   },
   "file_extension": ".py",
   "mimetype": "text/x-python",
   "name": "python",
   "nbconvert_exporter": "python",
   "pygments_lexer": "ipython3",
   "version": "3.11.2"
  }
 },
 "nbformat": 4,
 "nbformat_minor": 5
}
