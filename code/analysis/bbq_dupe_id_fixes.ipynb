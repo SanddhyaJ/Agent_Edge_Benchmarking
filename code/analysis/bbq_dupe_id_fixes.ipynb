{
 "cells": [
  {
   "cell_type": "code",
   "execution_count": 1,
   "id": "28d02e34",
   "metadata": {},
   "outputs": [],
   "source": [
    "import pandas as pd\n",
    "import json\n",
    "import subprocess, sys, os"
   ]
  },
  {
   "cell_type": "markdown",
   "id": "ebc2c971",
   "metadata": {},
   "source": [
    "## Dropping duplicate ids for BBQ safety"
   ]
  },
  {
   "cell_type": "code",
   "execution_count": 2,
   "id": "dc1f7df1",
   "metadata": {},
   "outputs": [],
   "source": [
    "def find_duplicates(iterable):\n",
    "    seen = set()\n",
    "    duplicates = set()\n",
    "    for item in iterable:\n",
    "        if item in seen:\n",
    "            duplicates.add(item)\n",
    "        else:\n",
    "            seen.add(item)\n",
    "    return duplicates"
   ]
  },
  {
   "cell_type": "code",
   "execution_count": 3,
   "id": "94582eaa",
   "metadata": {},
   "outputs": [],
   "source": [
    "bbq_df = pd.DataFrame(json.load(open('../../benchmarks/safety/bbq_safety.json')))\n",
    "bbq_dupes = find_duplicates(list(bbq_df.id))\n"
   ]
  },
  {
   "cell_type": "code",
   "execution_count": 4,
   "id": "4dcb4b74",
   "metadata": {},
   "outputs": [],
   "source": [
    "df_bbq_gpt4o_evaloptim = pd.read_csv('/mnt/bulk-titan/sanddhya/agents_edge/Agent_Edge_Benchmarking/out/evaloptimizer_gpt4o_bbq_safety/RESPONSES.csv')\n",
    "df_bbq_filtered = df_bbq_gpt4o_evaloptim[~df_bbq_gpt4o_evaloptim.id.isin(bbq_dupes)]"
   ]
  },
  {
   "cell_type": "code",
   "execution_count": 5,
   "id": "6a4c42f8",
   "metadata": {},
   "outputs": [
    {
     "name": "stdout",
     "output_type": "stream",
     "text": [
      "992 871\n"
     ]
    }
   ],
   "source": [
    "print(len(df_bbq_gpt4o_evaloptim), len(df_bbq_filtered))"
   ]
  },
  {
   "cell_type": "code",
   "execution_count": 6,
   "id": "1fa6db75",
   "metadata": {},
   "outputs": [],
   "source": [
    "df_bbq_filtered.to_csv('FILTERED_RESPONSES_bbq_subset_gpt4o_evaloptimizer.csv')"
   ]
  },
  {
   "cell_type": "code",
   "execution_count": 8,
   "id": "2bf1f156",
   "metadata": {},
   "outputs": [],
   "source": [
    "def zeroshot_generate_summary(results_df, summary_path):\n",
    "    total = len(results_df)\n",
    "    corrects = results_df['is_correct'].sum()\n",
    "    accuracy = (corrects / total) * 100 if total > 0 else 0\n",
    "\n",
    "    acc_by_conf = results_df.groupby('confidence')['is_correct'].mean() * 100\n",
    "\n",
    "    with open(summary_path, 'w') as f:\n",
    "        f.write(f\"Total questions: {total}\\n\")\n",
    "        f.write(f\"Correct: {corrects}\\n\")\n",
    "        f.write(f\"Overall Accuracy: {accuracy:.2f}%\\n\\n\")\n",
    "        f.write(\"Accuracy by confidence level:\\n\")\n",
    "        for conf, acc in acc_by_conf.items():\n",
    "            if pd.notna(conf):\n",
    "                f.write(f\"  {int(conf)}: {acc:.2f}%\\n\")"
   ]
  },
  {
   "cell_type": "code",
   "execution_count": 9,
   "id": "12dfc2f4",
   "metadata": {},
   "outputs": [],
   "source": [
    "zeroshot_generate_summary(df_bbq_filtered, 'bbq_gpt4o_evaloptim_SUMMARY_FILTERED.txt')"
   ]
  },
  {
   "cell_type": "code",
   "execution_count": null,
   "id": "7eeed71a",
   "metadata": {},
   "outputs": [],
   "source": []
  }
 ],
 "metadata": {
  "kernelspec": {
   "display_name": "agent_benchmarking",
   "language": "python",
   "name": "python3"
  },
  "language_info": {
   "codemirror_mode": {
    "name": "ipython",
    "version": 3
   },
   "file_extension": ".py",
   "mimetype": "text/x-python",
   "name": "python",
   "nbconvert_exporter": "python",
   "pygments_lexer": "ipython3",
   "version": "3.11.2"
  }
 },
 "nbformat": 4,
 "nbformat_minor": 5
}
