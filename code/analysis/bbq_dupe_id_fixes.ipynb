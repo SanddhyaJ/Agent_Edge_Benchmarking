{
 "cells": [
  {
   "cell_type": "code",
   "execution_count": 1,
   "id": "28d02e34",
   "metadata": {},
   "outputs": [],
   "source": [
    "import pandas as pd\n",
    "import json\n",
    "import subprocess, sys, os"
   ]
  },
  {
   "cell_type": "markdown",
   "id": "ebc2c971",
   "metadata": {},
   "source": [
    "## Dropping duplicate ids for BBQ safety"
   ]
  },
  {
   "cell_type": "code",
   "execution_count": 2,
   "id": "dc1f7df1",
   "metadata": {},
   "outputs": [],
   "source": [
    "def find_duplicates(iterable):\n",
    "    seen = set()\n",
    "    duplicates = set()\n",
    "    for item in iterable:\n",
    "        if item in seen:\n",
    "            duplicates.add(item)\n",
    "        else:\n",
    "            seen.add(item)\n",
    "    return duplicates"
   ]
  },
  {
   "cell_type": "code",
   "execution_count": 3,
   "id": "94582eaa",
   "metadata": {},
   "outputs": [],
   "source": [
    "bbq_df = pd.DataFrame(json.load(open('../../benchmarks/safety/bbq_safety.json')))\n",
    "bbq_dupes = find_duplicates(list(bbq_df.id))\n"
   ]
  },
  {
   "cell_type": "code",
   "execution_count": 7,
   "id": "4dcb4b74",
   "metadata": {},
   "outputs": [],
   "source": [
    "df_bbq_gpt4o_zeroshot = pd.read_csv('/Users/sanddhyajayabalan/Desktop/Projects/Prj_MetaMedQA/experiments/gpt4o_zeroshot/RESPONSES_bbq_subset_gpt4o_zeroshot.csv')\n",
    "df_bbq_filtered = df_bbq_gpt4o_zeroshot[~df_bbq_gpt4o_zeroshot.id.isin(bbq_dupes)]"
   ]
  },
  {
   "cell_type": "code",
   "execution_count": 9,
   "id": "6a4c42f8",
   "metadata": {},
   "outputs": [
    {
     "name": "stdout",
     "output_type": "stream",
     "text": [
      "992 871\n"
     ]
    }
   ],
   "source": [
    "print(len(df_bbq_gpt4o_zeroshot), len(df_bbq_filtered))"
   ]
  },
  {
   "cell_type": "code",
   "execution_count": 10,
   "id": "1fa6db75",
   "metadata": {},
   "outputs": [],
   "source": [
    "df_bbq_filtered.to_csv('FILTERED_RESPONSES_bbq_subset_gpt4o_zeroshot.csv')"
   ]
  },
  {
   "cell_type": "code",
   "execution_count": null,
   "id": "2bf1f156",
   "metadata": {},
   "outputs": [],
   "source": []
  }
 ],
 "metadata": {
  "kernelspec": {
   "display_name": "metamedqa",
   "language": "python",
   "name": "python3"
  },
  "language_info": {
   "codemirror_mode": {
    "name": "ipython",
    "version": 3
   },
   "file_extension": ".py",
   "mimetype": "text/x-python",
   "name": "python",
   "nbconvert_exporter": "python",
   "pygments_lexer": "ipython3",
   "version": "3.11.11"
  }
 },
 "nbformat": 4,
 "nbformat_minor": 5
}
